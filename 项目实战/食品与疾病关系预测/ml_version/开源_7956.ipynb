{
 "cells": [
  {
   "cell_type": "code",
   "execution_count": 1,
   "metadata": {
    "pycharm": {
     "name": "#%%\n"
    }
   },
   "outputs": [
    {
     "name": "stderr",
     "output_type": "stream",
     "text": [
      "D:\\software\\anaconda\\lib\\site-packages\\scipy\\__init__.py:173: UserWarning: A NumPy version >=1.19.5 and <1.27.0 is required for this version of SciPy (detected version 1.19.2)\n",
      "  warnings.warn(f\"A NumPy version >={np_minversion} and <{np_maxversion}\"\n",
      "D:\\software\\anaconda\\lib\\site-packages\\dask\\dataframe\\utils.py:367: FutureWarning: pandas.Int64Index is deprecated and will be removed from pandas in a future version. Use pandas.Index with the appropriate dtype instead.\n",
      "  _numeric_index_types = (pd.Int64Index, pd.Float64Index, pd.UInt64Index)\n",
      "D:\\software\\anaconda\\lib\\site-packages\\dask\\dataframe\\utils.py:367: FutureWarning: pandas.Float64Index is deprecated and will be removed from pandas in a future version. Use pandas.Index with the appropriate dtype instead.\n",
      "  _numeric_index_types = (pd.Int64Index, pd.Float64Index, pd.UInt64Index)\n",
      "D:\\software\\anaconda\\lib\\site-packages\\dask\\dataframe\\utils.py:367: FutureWarning: pandas.UInt64Index is deprecated and will be removed from pandas in a future version. Use pandas.Index with the appropriate dtype instead.\n",
      "  _numeric_index_types = (pd.Int64Index, pd.Float64Index, pd.UInt64Index)\n"
     ]
    },
    {
     "ename": "ValueError",
     "evalue": "numpy.ndarray size changed, may indicate binary incompatibility. Expected 96 from C header, got 80 from PyObject",
     "output_type": "error",
     "traceback": [
      "\u001B[1;31m---------------------------------------------------------------------------\u001B[0m",
      "\u001B[1;31mValueError\u001B[0m                                Traceback (most recent call last)",
      "\u001B[1;32m<ipython-input-1-1b33e02af9b8>\u001B[0m in \u001B[0;36m<module>\u001B[1;34m\u001B[0m\n\u001B[0;32m      5\u001B[0m \u001B[1;32mfrom\u001B[0m \u001B[0msklearn\u001B[0m\u001B[1;33m.\u001B[0m\u001B[0mlinear_model\u001B[0m \u001B[1;32mimport\u001B[0m \u001B[0mSGDRegressor\u001B[0m\u001B[1;33m,\u001B[0m \u001B[0mLinearRegression\u001B[0m\u001B[1;33m,\u001B[0m \u001B[0mRidge\u001B[0m\u001B[1;33m\u001B[0m\u001B[1;33m\u001B[0m\u001B[0m\n\u001B[0;32m      6\u001B[0m \u001B[1;32mfrom\u001B[0m \u001B[0msklearn\u001B[0m\u001B[1;33m.\u001B[0m\u001B[0mpreprocessing\u001B[0m \u001B[1;32mimport\u001B[0m \u001B[0mMinMaxScaler\u001B[0m\u001B[1;33m\u001B[0m\u001B[1;33m\u001B[0m\u001B[0m\n\u001B[1;32m----> 7\u001B[1;33m \u001B[1;32mfrom\u001B[0m \u001B[0mgensim\u001B[0m\u001B[1;33m.\u001B[0m\u001B[0mmodels\u001B[0m \u001B[1;32mimport\u001B[0m \u001B[0mWord2Vec\u001B[0m\u001B[1;33m\u001B[0m\u001B[1;33m\u001B[0m\u001B[0m\n\u001B[0m\u001B[0;32m      8\u001B[0m \u001B[1;32mimport\u001B[0m \u001B[0mmath\u001B[0m\u001B[1;33m\u001B[0m\u001B[1;33m\u001B[0m\u001B[0m\n\u001B[0;32m      9\u001B[0m \u001B[1;32mimport\u001B[0m \u001B[0mnumpy\u001B[0m \u001B[1;32mas\u001B[0m \u001B[0mnp\u001B[0m\u001B[1;33m\u001B[0m\u001B[1;33m\u001B[0m\u001B[0m\n",
      "\u001B[1;32mD:\\software\\anaconda\\lib\\site-packages\\gensim\\__init__.py\u001B[0m in \u001B[0;36m<module>\u001B[1;34m\u001B[0m\n\u001B[0;32m      9\u001B[0m \u001B[1;32mimport\u001B[0m \u001B[0mlogging\u001B[0m\u001B[1;33m\u001B[0m\u001B[1;33m\u001B[0m\u001B[0m\n\u001B[0;32m     10\u001B[0m \u001B[1;33m\u001B[0m\u001B[0m\n\u001B[1;32m---> 11\u001B[1;33m \u001B[1;32mfrom\u001B[0m \u001B[0mgensim\u001B[0m \u001B[1;32mimport\u001B[0m \u001B[0mparsing\u001B[0m\u001B[1;33m,\u001B[0m \u001B[0mcorpora\u001B[0m\u001B[1;33m,\u001B[0m \u001B[0mmatutils\u001B[0m\u001B[1;33m,\u001B[0m \u001B[0minterfaces\u001B[0m\u001B[1;33m,\u001B[0m \u001B[0mmodels\u001B[0m\u001B[1;33m,\u001B[0m \u001B[0msimilarities\u001B[0m\u001B[1;33m,\u001B[0m \u001B[0mutils\u001B[0m  \u001B[1;31m# noqa:F401\u001B[0m\u001B[1;33m\u001B[0m\u001B[1;33m\u001B[0m\u001B[0m\n\u001B[0m\u001B[0;32m     12\u001B[0m \u001B[1;33m\u001B[0m\u001B[0m\n\u001B[0;32m     13\u001B[0m \u001B[1;33m\u001B[0m\u001B[0m\n",
      "\u001B[1;32mD:\\software\\anaconda\\lib\\site-packages\\gensim\\corpora\\__init__.py\u001B[0m in \u001B[0;36m<module>\u001B[1;34m\u001B[0m\n\u001B[0;32m      4\u001B[0m \u001B[1;33m\u001B[0m\u001B[0m\n\u001B[0;32m      5\u001B[0m \u001B[1;31m# bring corpus classes directly into package namespace, to save some typing\u001B[0m\u001B[1;33m\u001B[0m\u001B[1;33m\u001B[0m\u001B[1;33m\u001B[0m\u001B[0m\n\u001B[1;32m----> 6\u001B[1;33m \u001B[1;32mfrom\u001B[0m \u001B[1;33m.\u001B[0m\u001B[0mindexedcorpus\u001B[0m \u001B[1;32mimport\u001B[0m \u001B[0mIndexedCorpus\u001B[0m  \u001B[1;31m# noqa:F401 must appear before the other classes\u001B[0m\u001B[1;33m\u001B[0m\u001B[1;33m\u001B[0m\u001B[0m\n\u001B[0m\u001B[0;32m      7\u001B[0m \u001B[1;33m\u001B[0m\u001B[0m\n\u001B[0;32m      8\u001B[0m \u001B[1;32mfrom\u001B[0m \u001B[1;33m.\u001B[0m\u001B[0mmmcorpus\u001B[0m \u001B[1;32mimport\u001B[0m \u001B[0mMmCorpus\u001B[0m  \u001B[1;31m# noqa:F401\u001B[0m\u001B[1;33m\u001B[0m\u001B[1;33m\u001B[0m\u001B[0m\n",
      "\u001B[1;32mD:\\software\\anaconda\\lib\\site-packages\\gensim\\corpora\\indexedcorpus.py\u001B[0m in \u001B[0;36m<module>\u001B[1;34m\u001B[0m\n\u001B[0;32m     12\u001B[0m \u001B[1;32mimport\u001B[0m \u001B[0mnumpy\u001B[0m\u001B[1;33m\u001B[0m\u001B[1;33m\u001B[0m\u001B[0m\n\u001B[0;32m     13\u001B[0m \u001B[1;33m\u001B[0m\u001B[0m\n\u001B[1;32m---> 14\u001B[1;33m \u001B[1;32mfrom\u001B[0m \u001B[0mgensim\u001B[0m \u001B[1;32mimport\u001B[0m \u001B[0minterfaces\u001B[0m\u001B[1;33m,\u001B[0m \u001B[0mutils\u001B[0m\u001B[1;33m\u001B[0m\u001B[1;33m\u001B[0m\u001B[0m\n\u001B[0m\u001B[0;32m     15\u001B[0m \u001B[1;33m\u001B[0m\u001B[0m\n\u001B[0;32m     16\u001B[0m \u001B[0mlogger\u001B[0m \u001B[1;33m=\u001B[0m \u001B[0mlogging\u001B[0m\u001B[1;33m.\u001B[0m\u001B[0mgetLogger\u001B[0m\u001B[1;33m(\u001B[0m\u001B[0m__name__\u001B[0m\u001B[1;33m)\u001B[0m\u001B[1;33m\u001B[0m\u001B[1;33m\u001B[0m\u001B[0m\n",
      "\u001B[1;32mD:\\software\\anaconda\\lib\\site-packages\\gensim\\interfaces.py\u001B[0m in \u001B[0;36m<module>\u001B[1;34m\u001B[0m\n\u001B[0;32m     17\u001B[0m \u001B[1;32mimport\u001B[0m \u001B[0mlogging\u001B[0m\u001B[1;33m\u001B[0m\u001B[1;33m\u001B[0m\u001B[0m\n\u001B[0;32m     18\u001B[0m \u001B[1;33m\u001B[0m\u001B[0m\n\u001B[1;32m---> 19\u001B[1;33m \u001B[1;32mfrom\u001B[0m \u001B[0mgensim\u001B[0m \u001B[1;32mimport\u001B[0m \u001B[0mutils\u001B[0m\u001B[1;33m,\u001B[0m \u001B[0mmatutils\u001B[0m\u001B[1;33m\u001B[0m\u001B[1;33m\u001B[0m\u001B[0m\n\u001B[0m\u001B[0;32m     20\u001B[0m \u001B[1;33m\u001B[0m\u001B[0m\n\u001B[0;32m     21\u001B[0m \u001B[1;33m\u001B[0m\u001B[0m\n",
      "\u001B[1;32mD:\\software\\anaconda\\lib\\site-packages\\gensim\\matutils.py\u001B[0m in \u001B[0;36m<module>\u001B[1;34m\u001B[0m\n\u001B[0;32m   1028\u001B[0m \u001B[1;32mtry\u001B[0m\u001B[1;33m:\u001B[0m\u001B[1;33m\u001B[0m\u001B[1;33m\u001B[0m\u001B[0m\n\u001B[0;32m   1029\u001B[0m     \u001B[1;31m# try to load fast, cythonized code if possible\u001B[0m\u001B[1;33m\u001B[0m\u001B[1;33m\u001B[0m\u001B[1;33m\u001B[0m\u001B[0m\n\u001B[1;32m-> 1030\u001B[1;33m     \u001B[1;32mfrom\u001B[0m \u001B[0mgensim\u001B[0m\u001B[1;33m.\u001B[0m\u001B[0m_matutils\u001B[0m \u001B[1;32mimport\u001B[0m \u001B[0mlogsumexp\u001B[0m\u001B[1;33m,\u001B[0m \u001B[0mmean_absolute_difference\u001B[0m\u001B[1;33m,\u001B[0m \u001B[0mdirichlet_expectation\u001B[0m\u001B[1;33m\u001B[0m\u001B[1;33m\u001B[0m\u001B[0m\n\u001B[0m\u001B[0;32m   1031\u001B[0m \u001B[1;33m\u001B[0m\u001B[0m\n\u001B[0;32m   1032\u001B[0m \u001B[1;32mexcept\u001B[0m \u001B[0mImportError\u001B[0m\u001B[1;33m:\u001B[0m\u001B[1;33m\u001B[0m\u001B[1;33m\u001B[0m\u001B[0m\n",
      "\u001B[1;32mD:\\software\\anaconda\\lib\\site-packages\\gensim\\_matutils.pyx\u001B[0m in \u001B[0;36minit gensim._matutils\u001B[1;34m()\u001B[0m\n",
      "\u001B[1;31mValueError\u001B[0m: numpy.ndarray size changed, may indicate binary incompatibility. Expected 96 from C header, got 80 from PyObject"
     ]
    }
   ],
   "source": [
    "import pandas as pd\n",
    "import os\n",
    "import gc\n",
    "import lightgbm as lgb\n",
    "from sklearn.linear_model import SGDRegressor, LinearRegression, Ridge\n",
    "from sklearn.preprocessing import MinMaxScaler\n",
    "from gensim.models import Word2Vec\n",
    "import math\n",
    "import numpy as np\n",
    "from tqdm import tqdm\n",
    "from sklearn.model_selection import StratifiedKFold, KFold, GroupKFold\n",
    "from sklearn.metrics import accuracy_score, f1_score, roc_auc_score, log_loss\n",
    "import matplotlib.pyplot as plt\n",
    "import time\n",
    "import warnings\n",
    "warnings.filterwarnings('ignore')"
   ]
  },
  {
   "cell_type": "markdown",
   "metadata": {
    "pycharm": {
     "name": "#%% md\n"
    }
   },
   "source": [
    "# 数据读取"
   ]
  },
  {
   "cell_type": "code",
   "execution_count": 2,
   "metadata": {
    "pycharm": {
     "name": "#%%\n"
    }
   },
   "outputs": [],
   "source": [
    "disease_feature1 = pd.read_csv(\"data/训练集/disease_feature1.csv\")\n",
    "disease_feature2 = pd.read_csv(\"data/训练集/disease_feature2.csv\")\n",
    "disease_feature3 = pd.read_csv(\"data/训练集/disease_feature3.csv\")\n",
    "\n",
    "train_answer = pd.read_csv(\"data/训练集/train_answer.csv\")\n",
    "train_food = pd.read_csv(\"data/训练集/train_food.csv\")\n",
    "\n",
    "preliminary_a_food = pd.read_csv(\"data/初赛A榜测试集/preliminary_a_food.csv\")\n",
    "preliminary_a_submit_sample = pd.read_csv(\"data/初赛A榜测试集/preliminary_a_submit_sample.csv\")"
   ]
  },
  {
   "cell_type": "code",
   "execution_count": 3,
   "metadata": {
    "pycharm": {
     "name": "#%%\n"
    }
   },
   "outputs": [],
   "source": [
    "del preliminary_a_submit_sample['related_prob']"
   ]
  },
  {
   "cell_type": "code",
   "execution_count": 4,
   "metadata": {
    "pycharm": {
     "name": "#%%\n"
    }
   },
   "outputs": [
    {
     "data": {
      "text/html": [
       "<div>\n",
       "<style scoped>\n",
       "    .dataframe tbody tr th:only-of-type {\n",
       "        vertical-align: middle;\n",
       "    }\n",
       "\n",
       "    .dataframe tbody tr th {\n",
       "        vertical-align: top;\n",
       "    }\n",
       "\n",
       "    .dataframe thead th {\n",
       "        text-align: right;\n",
       "    }\n",
       "</style>\n",
       "<table border=\"1\" class=\"dataframe\">\n",
       "  <thead>\n",
       "    <tr style=\"text-align: right;\">\n",
       "      <th></th>\n",
       "      <th>food_id</th>\n",
       "      <th>disease_id</th>\n",
       "      <th>related</th>\n",
       "    </tr>\n",
       "  </thead>\n",
       "  <tbody>\n",
       "    <tr>\n",
       "      <th>0</th>\n",
       "      <td>food_0</td>\n",
       "      <td>disease_998</td>\n",
       "      <td>0.0</td>\n",
       "    </tr>\n",
       "    <tr>\n",
       "      <th>1</th>\n",
       "      <td>food_0</td>\n",
       "      <td>disease_861</td>\n",
       "      <td>0.0</td>\n",
       "    </tr>\n",
       "    <tr>\n",
       "      <th>2</th>\n",
       "      <td>food_0</td>\n",
       "      <td>disease_559</td>\n",
       "      <td>0.0</td>\n",
       "    </tr>\n",
       "    <tr>\n",
       "      <th>3</th>\n",
       "      <td>food_0</td>\n",
       "      <td>disease_841</td>\n",
       "      <td>0.0</td>\n",
       "    </tr>\n",
       "    <tr>\n",
       "      <th>4</th>\n",
       "      <td>food_0</td>\n",
       "      <td>disease_81</td>\n",
       "      <td>0.0</td>\n",
       "    </tr>\n",
       "  </tbody>\n",
       "</table>\n",
       "</div>"
      ],
      "text/plain": [
       "  food_id   disease_id  related\n",
       "0  food_0  disease_998      0.0\n",
       "1  food_0  disease_861      0.0\n",
       "2  food_0  disease_559      0.0\n",
       "3  food_0  disease_841      0.0\n",
       "4  food_0   disease_81      0.0"
      ]
     },
     "execution_count": 4,
     "metadata": {},
     "output_type": "execute_result"
    }
   ],
   "source": [
    "data = pd.concat([train_answer, preliminary_a_submit_sample], axis = 0).reset_index(drop=True)\n",
    "data.head()"
   ]
  },
  {
   "cell_type": "markdown",
   "metadata": {
    "pycharm": {
     "name": "#%% md\n"
    }
   },
   "source": [
    "这里直接使用每个变量后的数字进行编码，当然也可以使用labelencoder的方式。"
   ]
  },
  {
   "cell_type": "code",
   "execution_count": 5,
   "metadata": {
    "pycharm": {
     "name": "#%%\n"
    }
   },
   "outputs": [],
   "source": [
    "data['food'] = data['food_id'].apply(lambda x : int(x.split('_')[1]))\n",
    "data['disease'] = data['disease_id'].apply(lambda x : int(x.split('_')[1]))"
   ]
  },
  {
   "cell_type": "code",
   "execution_count": 6,
   "metadata": {
    "pycharm": {
     "name": "#%%\n"
    }
   },
   "outputs": [
    {
     "data": {
      "text/html": [
       "<div>\n",
       "<style scoped>\n",
       "    .dataframe tbody tr th:only-of-type {\n",
       "        vertical-align: middle;\n",
       "    }\n",
       "\n",
       "    .dataframe tbody tr th {\n",
       "        vertical-align: top;\n",
       "    }\n",
       "\n",
       "    .dataframe thead th {\n",
       "        text-align: right;\n",
       "    }\n",
       "</style>\n",
       "<table border=\"1\" class=\"dataframe\">\n",
       "  <thead>\n",
       "    <tr style=\"text-align: right;\">\n",
       "      <th></th>\n",
       "      <th>food_id</th>\n",
       "      <th>N_0</th>\n",
       "      <th>N_1</th>\n",
       "      <th>N_2</th>\n",
       "      <th>N_3</th>\n",
       "      <th>N_4</th>\n",
       "      <th>N_5</th>\n",
       "      <th>N_6</th>\n",
       "      <th>N_7</th>\n",
       "      <th>N_8</th>\n",
       "      <th>...</th>\n",
       "      <th>N_202</th>\n",
       "      <th>N_203</th>\n",
       "      <th>N_204</th>\n",
       "      <th>N_205</th>\n",
       "      <th>N_206</th>\n",
       "      <th>N_207</th>\n",
       "      <th>N_208</th>\n",
       "      <th>N_209</th>\n",
       "      <th>N_210</th>\n",
       "      <th>N_211</th>\n",
       "    </tr>\n",
       "  </thead>\n",
       "  <tbody>\n",
       "    <tr>\n",
       "      <th>0</th>\n",
       "      <td>food_0</td>\n",
       "      <td>NaN</td>\n",
       "      <td>NaN</td>\n",
       "      <td>NaN</td>\n",
       "      <td>NaN</td>\n",
       "      <td>0.0</td>\n",
       "      <td>NaN</td>\n",
       "      <td>NaN</td>\n",
       "      <td>NaN</td>\n",
       "      <td>NaN</td>\n",
       "      <td>...</td>\n",
       "      <td>NaN</td>\n",
       "      <td>NaN</td>\n",
       "      <td>0.02</td>\n",
       "      <td>0.0</td>\n",
       "      <td>NaN</td>\n",
       "      <td>NaN</td>\n",
       "      <td>30.5</td>\n",
       "      <td>92.82</td>\n",
       "      <td>NaN</td>\n",
       "      <td>0.92</td>\n",
       "    </tr>\n",
       "    <tr>\n",
       "      <th>1</th>\n",
       "      <td>food_1</td>\n",
       "      <td>NaN</td>\n",
       "      <td>NaN</td>\n",
       "      <td>NaN</td>\n",
       "      <td>NaN</td>\n",
       "      <td>0.0</td>\n",
       "      <td>NaN</td>\n",
       "      <td>NaN</td>\n",
       "      <td>NaN</td>\n",
       "      <td>NaN</td>\n",
       "      <td>...</td>\n",
       "      <td>NaN</td>\n",
       "      <td>NaN</td>\n",
       "      <td>23.90</td>\n",
       "      <td>0.0</td>\n",
       "      <td>NaN</td>\n",
       "      <td>NaN</td>\n",
       "      <td>0.0</td>\n",
       "      <td>2.41</td>\n",
       "      <td>NaN</td>\n",
       "      <td>3.31</td>\n",
       "    </tr>\n",
       "    <tr>\n",
       "      <th>2</th>\n",
       "      <td>food_4</td>\n",
       "      <td>NaN</td>\n",
       "      <td>NaN</td>\n",
       "      <td>NaN</td>\n",
       "      <td>NaN</td>\n",
       "      <td>0.0</td>\n",
       "      <td>NaN</td>\n",
       "      <td>NaN</td>\n",
       "      <td>NaN</td>\n",
       "      <td>NaN</td>\n",
       "      <td>...</td>\n",
       "      <td>NaN</td>\n",
       "      <td>NaN</td>\n",
       "      <td>0.12</td>\n",
       "      <td>0.0</td>\n",
       "      <td>NaN</td>\n",
       "      <td>NaN</td>\n",
       "      <td>3.5</td>\n",
       "      <td>15.46</td>\n",
       "      <td>NaN</td>\n",
       "      <td>0.36</td>\n",
       "    </tr>\n",
       "    <tr>\n",
       "      <th>3</th>\n",
       "      <td>food_5</td>\n",
       "      <td>NaN</td>\n",
       "      <td>NaN</td>\n",
       "      <td>NaN</td>\n",
       "      <td>0.068</td>\n",
       "      <td>0.0</td>\n",
       "      <td>0.045</td>\n",
       "      <td>0.75</td>\n",
       "      <td>0.314</td>\n",
       "      <td>NaN</td>\n",
       "      <td>...</td>\n",
       "      <td>NaN</td>\n",
       "      <td>NaN</td>\n",
       "      <td>0.89</td>\n",
       "      <td>0.0</td>\n",
       "      <td>NaN</td>\n",
       "      <td>NaN</td>\n",
       "      <td>3.3</td>\n",
       "      <td>86.35</td>\n",
       "      <td>NaN</td>\n",
       "      <td>0.20</td>\n",
       "    </tr>\n",
       "    <tr>\n",
       "      <th>4</th>\n",
       "      <td>food_6</td>\n",
       "      <td>NaN</td>\n",
       "      <td>NaN</td>\n",
       "      <td>NaN</td>\n",
       "      <td>0.115</td>\n",
       "      <td>0.0</td>\n",
       "      <td>0.091</td>\n",
       "      <td>0.58</td>\n",
       "      <td>0.508</td>\n",
       "      <td>NaN</td>\n",
       "      <td>...</td>\n",
       "      <td>NaN</td>\n",
       "      <td>NaN</td>\n",
       "      <td>1.13</td>\n",
       "      <td>0.0</td>\n",
       "      <td>0.0</td>\n",
       "      <td>NaN</td>\n",
       "      <td>41.6</td>\n",
       "      <td>93.22</td>\n",
       "      <td>NaN</td>\n",
       "      <td>0.54</td>\n",
       "    </tr>\n",
       "  </tbody>\n",
       "</table>\n",
       "<p>5 rows × 213 columns</p>\n",
       "</div>"
      ],
      "text/plain": [
       "  food_id  N_0  N_1  N_2    N_3  N_4    N_5   N_6    N_7  N_8  ...  N_202  \\\n",
       "0  food_0  NaN  NaN  NaN    NaN  0.0    NaN   NaN    NaN  NaN  ...    NaN   \n",
       "1  food_1  NaN  NaN  NaN    NaN  0.0    NaN   NaN    NaN  NaN  ...    NaN   \n",
       "2  food_4  NaN  NaN  NaN    NaN  0.0    NaN   NaN    NaN  NaN  ...    NaN   \n",
       "3  food_5  NaN  NaN  NaN  0.068  0.0  0.045  0.75  0.314  NaN  ...    NaN   \n",
       "4  food_6  NaN  NaN  NaN  0.115  0.0  0.091  0.58  0.508  NaN  ...    NaN   \n",
       "\n",
       "   N_203  N_204  N_205  N_206  N_207  N_208  N_209  N_210  N_211  \n",
       "0    NaN   0.02    0.0    NaN    NaN   30.5  92.82    NaN   0.92  \n",
       "1    NaN  23.90    0.0    NaN    NaN    0.0   2.41    NaN   3.31  \n",
       "2    NaN   0.12    0.0    NaN    NaN    3.5  15.46    NaN   0.36  \n",
       "3    NaN   0.89    0.0    NaN    NaN    3.3  86.35    NaN   0.20  \n",
       "4    NaN   1.13    0.0    0.0    NaN   41.6  93.22    NaN   0.54  \n",
       "\n",
       "[5 rows x 213 columns]"
      ]
     },
     "execution_count": 6,
     "metadata": {},
     "output_type": "execute_result"
    }
   ],
   "source": [
    "food = pd.concat([train_food, preliminary_a_food], axis = 0).reset_index(drop=True)\n",
    "food.head()"
   ]
  },
  {
   "cell_type": "code",
   "execution_count": null,
   "metadata": {
    "pycharm": {
     "name": "#%%\n"
    }
   },
   "outputs": [],
   "source": []
  },
  {
   "cell_type": "markdown",
   "metadata": {
    "pycharm": {
     "name": "#%% md\n"
    }
   },
   "source": [
    "# 目标编码\n",
    "\n",
    "由于本题只有两个离散变量food_id和disease_id，而测试集中都是新的foodid。"
   ]
  },
  {
   "cell_type": "code",
   "execution_count": 7,
   "metadata": {
    "pycharm": {
     "name": "#%%\n"
    }
   },
   "outputs": [
    {
     "name": "stderr",
     "output_type": "stream",
     "text": [
      "100%|████████████████████████████████████████████████████████████████████████████████████████████████████████████████████████| 1/1 [00:00<00:00, 17.24it/s]\n",
      "100%|████████████████████████████████████████████████████████████████████████████████████████████████████████████████████████| 1/1 [00:00<00:00, 17.85it/s]\n",
      "100%|████████████████████████████████████████████████████████████████████████████████████████████████████████████████████████| 1/1 [00:00<00:00, 18.16it/s]\n",
      "100%|████████████████████████████████████████████████████████████████████████████████████████████████████████████████████████| 1/1 [00:00<00:00, 17.86it/s]\n",
      "100%|████████████████████████████████████████████████████████████████████████████████████████████████████████████████████████| 1/1 [00:00<00:00, 17.54it/s]\n",
      "100%|████████████████████████████████████████████████████████████████████████████████████████████████████████████████████████| 1/1 [00:00<00:00, 16.38it/s]\n"
     ]
    }
   ],
   "source": [
    "cat_list = ['disease']\n",
    "def stat(df, df_merge, group_by, agg):\n",
    "    group = df.groupby(group_by).agg(agg)\n",
    "\n",
    "    columns = []\n",
    "    for on, methods in agg.items():\n",
    "        for method in methods:\n",
    "            columns.append('{}_{}_{}'.format('_'.join(group_by), on, method))\n",
    "    group.columns = columns\n",
    "    group.reset_index(inplace=True)\n",
    "    df_merge = df_merge.merge(group, on=group_by, how='left')\n",
    "\n",
    "    del (group)\n",
    "    gc.collect()\n",
    "    return df_merge\n",
    "\n",
    "\n",
    "def statis_feat(df_know, df_unknow,cat_list):\n",
    "    for f in tqdm(cat_list):\n",
    "        df_unknow = stat(df_know, df_unknow, [f], {'related': ['mean']})\n",
    "\n",
    "    return df_unknow\n",
    "\n",
    "\n",
    "df_train = data[~data['related'].isnull()]\n",
    "df_train = df_train.reset_index(drop=True)\n",
    "df_test = data[data['related'].isnull()]\n",
    "\n",
    "df_stas_feat = None\n",
    "kf = StratifiedKFold(n_splits=5, random_state=2020, shuffle=True)\n",
    "for train_index, val_index in kf.split(df_train, df_train['related']):\n",
    "    df_fold_train = df_train.iloc[train_index]\n",
    "    df_fold_val = df_train.iloc[val_index]\n",
    "\n",
    "    df_fold_val = statis_feat(df_fold_train, df_fold_val,cat_list)\n",
    "    df_stas_feat = pd.concat([df_stas_feat, df_fold_val], axis=0)\n",
    "\n",
    "    del (df_fold_train)\n",
    "    del (df_fold_val)\n",
    "    gc.collect()\n",
    "\n",
    "df_test = statis_feat(df_train, df_test,cat_list)\n",
    "data = pd.concat([df_stas_feat, df_test], axis=0)\n",
    "data = data.reset_index(drop=True)\n",
    "\n",
    "del (df_stas_feat)\n",
    "del (df_train)\n",
    "del (df_test)"
   ]
  },
  {
   "cell_type": "code",
   "execution_count": null,
   "metadata": {
    "pycharm": {
     "name": "#%%\n"
    }
   },
   "outputs": [],
   "source": []
  },
  {
   "cell_type": "markdown",
   "metadata": {
    "pycharm": {
     "name": "#%% md\n"
    }
   },
   "source": [
    "# 疾病特征处理\n",
    "\n",
    "这里我们使用TruncatedSVD的方法，对疾病特征进行降维，维度均为128。"
   ]
  },
  {
   "cell_type": "code",
   "execution_count": 8,
   "metadata": {
    "pycharm": {
     "name": "#%%\n"
    }
   },
   "outputs": [],
   "source": [
    "f_col = [col for col in disease_feature1.columns if 'F' in col]"
   ]
  },
  {
   "cell_type": "code",
   "execution_count": 9,
   "metadata": {
    "pycharm": {
     "name": "#%%\n"
    }
   },
   "outputs": [],
   "source": [
    "disease_feature_1_ = disease_feature1.copy()\n",
    "from sklearn.feature_extraction.text import CountVectorizer,TfidfVectorizer,TfidfTransformer \n",
    "from sklearn.decomposition import TruncatedSVD, SparsePCA\n",
    "disease_feature_1_ = disease_feature_1_.fillna(0)\n",
    "decom=TruncatedSVD(n_components=128, n_iter = 20, random_state=2023) \n",
    "\n",
    "decom_x=decom.fit_transform(disease_feature_1_.iloc[:,1:]) \n",
    "decom_feas=pd.DataFrame(decom_x)\n",
    "decom_feas.columns=['disease1_svd_'+str(i) for i in range(decom_x.shape[1])]"
   ]
  },
  {
   "cell_type": "code",
   "execution_count": 10,
   "metadata": {
    "pycharm": {
     "name": "#%%\n"
    }
   },
   "outputs": [],
   "source": [
    "disease_feature1 = disease_feature1[['disease_id']]\n",
    "for col in decom_feas:\n",
    "    disease_feature1[col] = decom_feas[col]"
   ]
  },
  {
   "cell_type": "code",
   "execution_count": 11,
   "metadata": {
    "pycharm": {
     "name": "#%%\n"
    }
   },
   "outputs": [],
   "source": [
    "f_col = [col for col in disease_feature2.columns if 'F' in col]"
   ]
  },
  {
   "cell_type": "code",
   "execution_count": 12,
   "metadata": {
    "pycharm": {
     "name": "#%%\n"
    }
   },
   "outputs": [],
   "source": [
    "disease_feature_2_ = disease_feature2.copy()\n",
    "from sklearn.feature_extraction.text import CountVectorizer,TfidfVectorizer,TfidfTransformer \n",
    "from sklearn.decomposition import TruncatedSVD, SparsePCA\n",
    "disease_feature_2_ = disease_feature_2_.fillna(0)\n",
    "decom=TruncatedSVD(n_components=128, n_iter = 20, random_state=2023) \n",
    "\n",
    "decom_x=decom.fit_transform(disease_feature_2_.iloc[:,1:]) \n",
    "decom_feas=pd.DataFrame(decom_x)\n",
    "decom_feas.columns=['disease2_svd_'+str(i) for i in range(decom_x.shape[1])]"
   ]
  },
  {
   "cell_type": "code",
   "execution_count": 13,
   "metadata": {
    "pycharm": {
     "name": "#%%\n"
    }
   },
   "outputs": [],
   "source": [
    "disease_feature2 = disease_feature2[['disease_id']]\n",
    "for col in decom_feas:\n",
    "    disease_feature2[col] = decom_feas[col]"
   ]
  },
  {
   "cell_type": "code",
   "execution_count": 14,
   "metadata": {
    "pycharm": {
     "name": "#%%\n"
    }
   },
   "outputs": [],
   "source": [
    "f_col = [col for col in disease_feature3.columns if 'F' in col]"
   ]
  },
  {
   "cell_type": "code",
   "execution_count": 15,
   "metadata": {
    "pycharm": {
     "name": "#%%\n"
    }
   },
   "outputs": [],
   "source": [
    "disease_feature_3_ = disease_feature3.copy()\n",
    "from sklearn.feature_extraction.text import CountVectorizer,TfidfVectorizer,TfidfTransformer \n",
    "from sklearn.decomposition import TruncatedSVD, SparsePCA\n",
    "disease_feature_3_ = disease_feature_3_.fillna(0)\n",
    "decom=TruncatedSVD(n_components=128, n_iter = 20, random_state=2023) \n",
    "\n",
    "decom_x=decom.fit_transform(disease_feature_3_.iloc[:,1:]) \n",
    "decom_feas=pd.DataFrame(decom_x)\n",
    "decom_feas.columns=['disease3_svd_'+str(i) for i in range(decom_x.shape[1])]"
   ]
  },
  {
   "cell_type": "code",
   "execution_count": 16,
   "metadata": {
    "pycharm": {
     "name": "#%%\n"
    }
   },
   "outputs": [],
   "source": [
    "disease_feature3 = disease_feature3[['disease_id']]\n",
    "for col in decom_feas:\n",
    "    disease_feature3[col] = decom_feas[col]"
   ]
  },
  {
   "cell_type": "code",
   "execution_count": 17,
   "metadata": {
    "pycharm": {
     "name": "#%%\n"
    }
   },
   "outputs": [
    {
     "data": {
      "text/html": [
       "<div>\n",
       "<style scoped>\n",
       "    .dataframe tbody tr th:only-of-type {\n",
       "        vertical-align: middle;\n",
       "    }\n",
       "\n",
       "    .dataframe tbody tr th {\n",
       "        vertical-align: top;\n",
       "    }\n",
       "\n",
       "    .dataframe thead th {\n",
       "        text-align: right;\n",
       "    }\n",
       "</style>\n",
       "<table border=\"1\" class=\"dataframe\">\n",
       "  <thead>\n",
       "    <tr style=\"text-align: right;\">\n",
       "      <th></th>\n",
       "      <th>food_id</th>\n",
       "      <th>disease_id</th>\n",
       "      <th>related</th>\n",
       "      <th>food</th>\n",
       "      <th>disease</th>\n",
       "      <th>disease_related_mean</th>\n",
       "      <th>N_0</th>\n",
       "      <th>N_1</th>\n",
       "      <th>N_2</th>\n",
       "      <th>N_3</th>\n",
       "      <th>...</th>\n",
       "      <th>disease3_svd_118</th>\n",
       "      <th>disease3_svd_119</th>\n",
       "      <th>disease3_svd_120</th>\n",
       "      <th>disease3_svd_121</th>\n",
       "      <th>disease3_svd_122</th>\n",
       "      <th>disease3_svd_123</th>\n",
       "      <th>disease3_svd_124</th>\n",
       "      <th>disease3_svd_125</th>\n",
       "      <th>disease3_svd_126</th>\n",
       "      <th>disease3_svd_127</th>\n",
       "    </tr>\n",
       "  </thead>\n",
       "  <tbody>\n",
       "    <tr>\n",
       "      <th>0</th>\n",
       "      <td>food_0</td>\n",
       "      <td>disease_861</td>\n",
       "      <td>0.0</td>\n",
       "      <td>0</td>\n",
       "      <td>861</td>\n",
       "      <td>0.003521</td>\n",
       "      <td>NaN</td>\n",
       "      <td>NaN</td>\n",
       "      <td>NaN</td>\n",
       "      <td>NaN</td>\n",
       "      <td>...</td>\n",
       "      <td>0.003554</td>\n",
       "      <td>-0.050520</td>\n",
       "      <td>-0.049823</td>\n",
       "      <td>-0.017363</td>\n",
       "      <td>-0.116130</td>\n",
       "      <td>0.085801</td>\n",
       "      <td>0.072854</td>\n",
       "      <td>0.120381</td>\n",
       "      <td>0.033087</td>\n",
       "      <td>-0.025249</td>\n",
       "    </tr>\n",
       "    <tr>\n",
       "      <th>1</th>\n",
       "      <td>food_0</td>\n",
       "      <td>disease_839</td>\n",
       "      <td>0.0</td>\n",
       "      <td>0</td>\n",
       "      <td>839</td>\n",
       "      <td>0.007299</td>\n",
       "      <td>NaN</td>\n",
       "      <td>NaN</td>\n",
       "      <td>NaN</td>\n",
       "      <td>NaN</td>\n",
       "      <td>...</td>\n",
       "      <td>-0.004057</td>\n",
       "      <td>0.011732</td>\n",
       "      <td>-0.012960</td>\n",
       "      <td>-0.005264</td>\n",
       "      <td>0.024481</td>\n",
       "      <td>-0.021813</td>\n",
       "      <td>-0.020103</td>\n",
       "      <td>0.079306</td>\n",
       "      <td>0.056902</td>\n",
       "      <td>-0.012589</td>\n",
       "    </tr>\n",
       "    <tr>\n",
       "      <th>2</th>\n",
       "      <td>food_0</td>\n",
       "      <td>disease_50</td>\n",
       "      <td>0.0</td>\n",
       "      <td>0</td>\n",
       "      <td>50</td>\n",
       "      <td>0.018382</td>\n",
       "      <td>NaN</td>\n",
       "      <td>NaN</td>\n",
       "      <td>NaN</td>\n",
       "      <td>NaN</td>\n",
       "      <td>...</td>\n",
       "      <td>0.082889</td>\n",
       "      <td>-0.008238</td>\n",
       "      <td>-0.058866</td>\n",
       "      <td>0.072690</td>\n",
       "      <td>-0.040983</td>\n",
       "      <td>0.001735</td>\n",
       "      <td>-0.031011</td>\n",
       "      <td>0.012370</td>\n",
       "      <td>-0.016576</td>\n",
       "      <td>0.062942</td>\n",
       "    </tr>\n",
       "    <tr>\n",
       "      <th>3</th>\n",
       "      <td>food_0</td>\n",
       "      <td>disease_1370</td>\n",
       "      <td>0.0</td>\n",
       "      <td>0</td>\n",
       "      <td>1370</td>\n",
       "      <td>0.214286</td>\n",
       "      <td>NaN</td>\n",
       "      <td>NaN</td>\n",
       "      <td>NaN</td>\n",
       "      <td>NaN</td>\n",
       "      <td>...</td>\n",
       "      <td>-0.114083</td>\n",
       "      <td>0.041070</td>\n",
       "      <td>-0.060834</td>\n",
       "      <td>0.031545</td>\n",
       "      <td>0.020605</td>\n",
       "      <td>0.045850</td>\n",
       "      <td>0.060787</td>\n",
       "      <td>-0.054691</td>\n",
       "      <td>-0.081137</td>\n",
       "      <td>-0.041880</td>\n",
       "    </tr>\n",
       "    <tr>\n",
       "      <th>4</th>\n",
       "      <td>food_0</td>\n",
       "      <td>disease_1015</td>\n",
       "      <td>0.0</td>\n",
       "      <td>0</td>\n",
       "      <td>1015</td>\n",
       "      <td>0.202749</td>\n",
       "      <td>NaN</td>\n",
       "      <td>NaN</td>\n",
       "      <td>NaN</td>\n",
       "      <td>NaN</td>\n",
       "      <td>...</td>\n",
       "      <td>-0.035130</td>\n",
       "      <td>-0.033633</td>\n",
       "      <td>-0.015799</td>\n",
       "      <td>-0.042921</td>\n",
       "      <td>0.035031</td>\n",
       "      <td>0.071032</td>\n",
       "      <td>-0.097231</td>\n",
       "      <td>0.081445</td>\n",
       "      <td>-0.014732</td>\n",
       "      <td>0.010713</td>\n",
       "    </tr>\n",
       "  </tbody>\n",
       "</table>\n",
       "<p>5 rows × 602 columns</p>\n",
       "</div>"
      ],
      "text/plain": [
       "  food_id    disease_id  related  food  disease  disease_related_mean  N_0  \\\n",
       "0  food_0   disease_861      0.0     0      861              0.003521  NaN   \n",
       "1  food_0   disease_839      0.0     0      839              0.007299  NaN   \n",
       "2  food_0    disease_50      0.0     0       50              0.018382  NaN   \n",
       "3  food_0  disease_1370      0.0     0     1370              0.214286  NaN   \n",
       "4  food_0  disease_1015      0.0     0     1015              0.202749  NaN   \n",
       "\n",
       "   N_1  N_2  N_3  ...  disease3_svd_118  disease3_svd_119  disease3_svd_120  \\\n",
       "0  NaN  NaN  NaN  ...          0.003554         -0.050520         -0.049823   \n",
       "1  NaN  NaN  NaN  ...         -0.004057          0.011732         -0.012960   \n",
       "2  NaN  NaN  NaN  ...          0.082889         -0.008238         -0.058866   \n",
       "3  NaN  NaN  NaN  ...         -0.114083          0.041070         -0.060834   \n",
       "4  NaN  NaN  NaN  ...         -0.035130         -0.033633         -0.015799   \n",
       "\n",
       "   disease3_svd_121  disease3_svd_122  disease3_svd_123  disease3_svd_124  \\\n",
       "0         -0.017363         -0.116130          0.085801          0.072854   \n",
       "1         -0.005264          0.024481         -0.021813         -0.020103   \n",
       "2          0.072690         -0.040983          0.001735         -0.031011   \n",
       "3          0.031545          0.020605          0.045850          0.060787   \n",
       "4         -0.042921          0.035031          0.071032         -0.097231   \n",
       "\n",
       "   disease3_svd_125  disease3_svd_126  disease3_svd_127  \n",
       "0          0.120381          0.033087         -0.025249  \n",
       "1          0.079306          0.056902         -0.012589  \n",
       "2          0.012370         -0.016576          0.062942  \n",
       "3         -0.054691         -0.081137         -0.041880  \n",
       "4          0.081445         -0.014732          0.010713  \n",
       "\n",
       "[5 rows x 602 columns]"
      ]
     },
     "execution_count": 17,
     "metadata": {},
     "output_type": "execute_result"
    }
   ],
   "source": [
    "data = data.merge(food, on = 'food_id', how = 'left')\n",
    "data = data.merge(disease_feature1, on = 'disease_id', how = 'left')\n",
    "data = data.merge(disease_feature2, on = 'disease_id', how = 'left')\n",
    "data = data.merge(disease_feature3, on = 'disease_id', how = 'left')\n",
    "data.head()"
   ]
  },
  {
   "cell_type": "code",
   "execution_count": null,
   "metadata": {
    "pycharm": {
     "name": "#%%\n"
    }
   },
   "outputs": [],
   "source": []
  },
  {
   "cell_type": "markdown",
   "metadata": {
    "pycharm": {
     "name": "#%% md\n"
    }
   },
   "source": [
    "# 交叉特征\n",
    "\n",
    "这里我们按照特征重要性选取靠前的部分特征进行交叉。"
   ]
  },
  {
   "cell_type": "code",
   "execution_count": 18,
   "metadata": {
    "pycharm": {
     "name": "#%%\n"
    }
   },
   "outputs": [],
   "source": [
    "topn = ['N_33', 'N_198', 'N_74','disease','food']\n",
    "for i in range(len(topn)):\n",
    "    for j in range(i + 1, len(topn)):\n",
    "        data[f'{topn[i]}+{topn[j]}'] = data[topn[i]] + data[topn[j]]\n",
    "        data[f'{topn[i]}-{topn[j]}'] = data[topn[i]] - data[topn[j]]\n",
    "        data[f'{topn[i]}*{topn[j]}'] = data[topn[i]] * data[topn[j]]\n",
    "        data[f'{topn[i]}/{topn[j]}'] = data[topn[i]] / (data[topn[j]]+1e-5)"
   ]
  },
  {
   "cell_type": "code",
   "execution_count": null,
   "metadata": {
    "pycharm": {
     "name": "#%%\n"
    }
   },
   "outputs": [],
   "source": []
  },
  {
   "cell_type": "code",
   "execution_count": 19,
   "metadata": {
    "pycharm": {
     "name": "#%%\n"
    }
   },
   "outputs": [],
   "source": [
    "drop_cols = ['disease_id', 'food_id', 'related']"
   ]
  },
  {
   "cell_type": "markdown",
   "metadata": {
    "pycharm": {
     "name": "#%% md\n"
    }
   },
   "source": [
    "# 特征筛选\n",
    "\n",
    "去除掉只有单一取值的特征"
   ]
  },
  {
   "cell_type": "code",
   "execution_count": 20,
   "metadata": {
    "pycharm": {
     "name": "#%%\n"
    }
   },
   "outputs": [],
   "source": [
    "for f in data.columns:\n",
    "    if data[f].nunique() < 2:\n",
    "        drop_cols.append(f)"
   ]
  },
  {
   "cell_type": "code",
   "execution_count": 21,
   "metadata": {
    "pycharm": {
     "name": "#%%\n"
    }
   },
   "outputs": [],
   "source": [
    "test_df = data[data[\"related\"].isnull() == True].copy().reset_index(drop=True)\n",
    "train_df = data[~data[\"related\"].isnull() == True].copy().reset_index(drop=True)"
   ]
  },
  {
   "cell_type": "code",
   "execution_count": 22,
   "metadata": {
    "scrolled": true,
    "pycharm": {
     "name": "#%%\n"
    }
   },
   "outputs": [
    {
     "name": "stdout",
     "output_type": "stream",
     "text": [
      "588\n",
      "['food', 'disease', 'disease_related_mean', 'N_0', 'N_1', 'N_3', 'N_4', 'N_5', 'N_6', 'N_7', 'N_9', 'N_10', 'N_11', 'N_13', 'N_14', 'N_16', 'N_17', 'N_18', 'N_19', 'N_20', 'N_22', 'N_28', 'N_30', 'N_33', 'N_35', 'N_37', 'N_40', 'N_42', 'N_43', 'N_44', 'N_45', 'N_46', 'N_47', 'N_48', 'N_49', 'N_50', 'N_51', 'N_52', 'N_53', 'N_54', 'N_55', 'N_56', 'N_57', 'N_58', 'N_59', 'N_60', 'N_61', 'N_62', 'N_63', 'N_64', 'N_67', 'N_68', 'N_69', 'N_71', 'N_72', 'N_73', 'N_74', 'N_75', 'N_76', 'N_77', 'N_78', 'N_79', 'N_80', 'N_81', 'N_82', 'N_84', 'N_85', 'N_86', 'N_87', 'N_88', 'N_89', 'N_90', 'N_91', 'N_92', 'N_93', 'N_94', 'N_95', 'N_96', 'N_97', 'N_98', 'N_99', 'N_100', 'N_101', 'N_102', 'N_104', 'N_105', 'N_106', 'N_109', 'N_111', 'N_112', 'N_113', 'N_114', 'N_115', 'N_116', 'N_118', 'N_119', 'N_120', 'N_121', 'N_122', 'N_123', 'N_124', 'N_125', 'N_126', 'N_127', 'N_128', 'N_129', 'N_131', 'N_132', 'N_133', 'N_134', 'N_135', 'N_136', 'N_138', 'N_139', 'N_140', 'N_141', 'N_142', 'N_145', 'N_146', 'N_147', 'N_148', 'N_149', 'N_151', 'N_152', 'N_153', 'N_154', 'N_155', 'N_156', 'N_157', 'N_158', 'N_160', 'N_161', 'N_162', 'N_163', 'N_164', 'N_165', 'N_166', 'N_167', 'N_168', 'N_169', 'N_170', 'N_171', 'N_172', 'N_173', 'N_174', 'N_175', 'N_176', 'N_177', 'N_178', 'N_179', 'N_180', 'N_181', 'N_182', 'N_183', 'N_184', 'N_185', 'N_187', 'N_188', 'N_190', 'N_191', 'N_192', 'N_193', 'N_194', 'N_195', 'N_196', 'N_197', 'N_198', 'N_199', 'N_200', 'N_201', 'N_202', 'N_203', 'N_204', 'N_205', 'N_206', 'N_207', 'N_208', 'N_209', 'N_210', 'N_211', 'disease1_svd_0', 'disease1_svd_1', 'disease1_svd_2', 'disease1_svd_3', 'disease1_svd_4', 'disease1_svd_5', 'disease1_svd_6', 'disease1_svd_7', 'disease1_svd_8', 'disease1_svd_9', 'disease1_svd_10', 'disease1_svd_11', 'disease1_svd_12', 'disease1_svd_13', 'disease1_svd_14', 'disease1_svd_15', 'disease1_svd_16', 'disease1_svd_17', 'disease1_svd_18', 'disease1_svd_19', 'disease1_svd_20', 'disease1_svd_21', 'disease1_svd_22', 'disease1_svd_23', 'disease1_svd_24', 'disease1_svd_25', 'disease1_svd_26', 'disease1_svd_27', 'disease1_svd_28', 'disease1_svd_29', 'disease1_svd_30', 'disease1_svd_31', 'disease1_svd_32', 'disease1_svd_33', 'disease1_svd_34', 'disease1_svd_35', 'disease1_svd_36', 'disease1_svd_37', 'disease1_svd_38', 'disease1_svd_39', 'disease1_svd_40', 'disease1_svd_41', 'disease1_svd_42', 'disease1_svd_43', 'disease1_svd_44', 'disease1_svd_45', 'disease1_svd_46', 'disease1_svd_47', 'disease1_svd_48', 'disease1_svd_49', 'disease1_svd_50', 'disease1_svd_51', 'disease1_svd_52', 'disease1_svd_53', 'disease1_svd_54', 'disease1_svd_55', 'disease1_svd_56', 'disease1_svd_57', 'disease1_svd_58', 'disease1_svd_59', 'disease1_svd_60', 'disease1_svd_61', 'disease1_svd_62', 'disease1_svd_63', 'disease1_svd_64', 'disease1_svd_65', 'disease1_svd_66', 'disease1_svd_67', 'disease1_svd_68', 'disease1_svd_69', 'disease1_svd_70', 'disease1_svd_71', 'disease1_svd_72', 'disease1_svd_73', 'disease1_svd_74', 'disease1_svd_75', 'disease1_svd_76', 'disease1_svd_77', 'disease1_svd_78', 'disease1_svd_79', 'disease1_svd_80', 'disease1_svd_81', 'disease1_svd_82', 'disease1_svd_83', 'disease1_svd_84', 'disease1_svd_85', 'disease1_svd_86', 'disease1_svd_87', 'disease1_svd_88', 'disease1_svd_89', 'disease1_svd_90', 'disease1_svd_91', 'disease1_svd_92', 'disease1_svd_93', 'disease1_svd_94', 'disease1_svd_95', 'disease1_svd_96', 'disease1_svd_97', 'disease1_svd_98', 'disease1_svd_99', 'disease1_svd_100', 'disease1_svd_101', 'disease1_svd_102', 'disease1_svd_103', 'disease1_svd_104', 'disease1_svd_105', 'disease1_svd_106', 'disease1_svd_107', 'disease1_svd_108', 'disease1_svd_109', 'disease1_svd_110', 'disease1_svd_111', 'disease1_svd_112', 'disease1_svd_113', 'disease1_svd_114', 'disease1_svd_115', 'disease1_svd_116', 'disease1_svd_117', 'disease1_svd_118', 'disease1_svd_119', 'disease1_svd_120', 'disease1_svd_121', 'disease1_svd_122', 'disease1_svd_123', 'disease1_svd_124', 'disease1_svd_125', 'disease1_svd_126', 'disease1_svd_127', 'disease2_svd_0', 'disease2_svd_1', 'disease2_svd_2', 'disease2_svd_3', 'disease2_svd_4', 'disease2_svd_5', 'disease2_svd_6', 'disease2_svd_7', 'disease2_svd_8', 'disease2_svd_9', 'disease2_svd_10', 'disease2_svd_11', 'disease2_svd_12', 'disease2_svd_13', 'disease2_svd_14', 'disease2_svd_15', 'disease2_svd_16', 'disease2_svd_17', 'disease2_svd_18', 'disease2_svd_19', 'disease2_svd_20', 'disease2_svd_21', 'disease2_svd_22', 'disease2_svd_23', 'disease2_svd_24', 'disease2_svd_25', 'disease2_svd_26', 'disease2_svd_27', 'disease2_svd_28', 'disease2_svd_29', 'disease2_svd_30', 'disease2_svd_31', 'disease2_svd_32', 'disease2_svd_33', 'disease2_svd_34', 'disease2_svd_35', 'disease2_svd_36', 'disease2_svd_37', 'disease2_svd_38', 'disease2_svd_39', 'disease2_svd_40', 'disease2_svd_41', 'disease2_svd_42', 'disease2_svd_43', 'disease2_svd_44', 'disease2_svd_45', 'disease2_svd_46', 'disease2_svd_47', 'disease2_svd_48', 'disease2_svd_49', 'disease2_svd_50', 'disease2_svd_51', 'disease2_svd_52', 'disease2_svd_53', 'disease2_svd_54', 'disease2_svd_55', 'disease2_svd_56', 'disease2_svd_57', 'disease2_svd_58', 'disease2_svd_59', 'disease2_svd_60', 'disease2_svd_61', 'disease2_svd_62', 'disease2_svd_63', 'disease2_svd_64', 'disease2_svd_65', 'disease2_svd_66', 'disease2_svd_67', 'disease2_svd_68', 'disease2_svd_69', 'disease2_svd_70', 'disease2_svd_71', 'disease2_svd_72', 'disease2_svd_73', 'disease2_svd_74', 'disease2_svd_75', 'disease2_svd_76', 'disease2_svd_77', 'disease2_svd_78', 'disease2_svd_79', 'disease2_svd_80', 'disease2_svd_81', 'disease2_svd_82', 'disease2_svd_83', 'disease2_svd_84', 'disease2_svd_85', 'disease2_svd_86', 'disease2_svd_87', 'disease2_svd_88', 'disease2_svd_89', 'disease2_svd_90', 'disease2_svd_91', 'disease2_svd_92', 'disease2_svd_93', 'disease2_svd_94', 'disease2_svd_95', 'disease2_svd_96', 'disease2_svd_97', 'disease2_svd_98', 'disease2_svd_99', 'disease2_svd_100', 'disease2_svd_101', 'disease2_svd_102', 'disease2_svd_103', 'disease2_svd_104', 'disease2_svd_105', 'disease2_svd_106', 'disease2_svd_107', 'disease2_svd_108', 'disease2_svd_109', 'disease2_svd_110', 'disease2_svd_111', 'disease2_svd_112', 'disease2_svd_113', 'disease2_svd_114', 'disease2_svd_115', 'disease2_svd_116', 'disease2_svd_117', 'disease2_svd_118', 'disease2_svd_119', 'disease2_svd_120', 'disease2_svd_121', 'disease2_svd_122', 'disease2_svd_123', 'disease2_svd_124', 'disease2_svd_125', 'disease2_svd_126', 'disease2_svd_127', 'disease3_svd_0', 'disease3_svd_1', 'disease3_svd_2', 'disease3_svd_3', 'disease3_svd_4', 'disease3_svd_5', 'disease3_svd_6', 'disease3_svd_7', 'disease3_svd_8', 'disease3_svd_9', 'disease3_svd_10', 'disease3_svd_11', 'disease3_svd_12', 'disease3_svd_13', 'disease3_svd_14', 'disease3_svd_15', 'disease3_svd_16', 'disease3_svd_17', 'disease3_svd_18', 'disease3_svd_19', 'disease3_svd_20', 'disease3_svd_21', 'disease3_svd_22', 'disease3_svd_23', 'disease3_svd_24', 'disease3_svd_25', 'disease3_svd_26', 'disease3_svd_27', 'disease3_svd_28', 'disease3_svd_29', 'disease3_svd_30', 'disease3_svd_31', 'disease3_svd_32', 'disease3_svd_33', 'disease3_svd_34', 'disease3_svd_35', 'disease3_svd_36', 'disease3_svd_37', 'disease3_svd_38', 'disease3_svd_39', 'disease3_svd_40', 'disease3_svd_41', 'disease3_svd_42', 'disease3_svd_43', 'disease3_svd_44', 'disease3_svd_45', 'disease3_svd_46', 'disease3_svd_47', 'disease3_svd_48', 'disease3_svd_49', 'disease3_svd_50', 'disease3_svd_51', 'disease3_svd_52', 'disease3_svd_53', 'disease3_svd_54', 'disease3_svd_55', 'disease3_svd_56', 'disease3_svd_57', 'disease3_svd_58', 'disease3_svd_59', 'disease3_svd_60', 'disease3_svd_61', 'disease3_svd_62', 'disease3_svd_63', 'disease3_svd_64', 'disease3_svd_65', 'disease3_svd_66', 'disease3_svd_67', 'disease3_svd_68', 'disease3_svd_69', 'disease3_svd_70', 'disease3_svd_71', 'disease3_svd_72', 'disease3_svd_73', 'disease3_svd_74', 'disease3_svd_75', 'disease3_svd_76', 'disease3_svd_77', 'disease3_svd_78', 'disease3_svd_79', 'disease3_svd_80', 'disease3_svd_81', 'disease3_svd_82', 'disease3_svd_83', 'disease3_svd_84', 'disease3_svd_85', 'disease3_svd_86', 'disease3_svd_87', 'disease3_svd_88', 'disease3_svd_89', 'disease3_svd_90', 'disease3_svd_91', 'disease3_svd_92', 'disease3_svd_93', 'disease3_svd_94', 'disease3_svd_95', 'disease3_svd_96', 'disease3_svd_97', 'disease3_svd_98', 'disease3_svd_99', 'disease3_svd_100', 'disease3_svd_101', 'disease3_svd_102', 'disease3_svd_103', 'disease3_svd_104', 'disease3_svd_105', 'disease3_svd_106', 'disease3_svd_107', 'disease3_svd_108', 'disease3_svd_109', 'disease3_svd_110', 'disease3_svd_111', 'disease3_svd_112', 'disease3_svd_113', 'disease3_svd_114', 'disease3_svd_115', 'disease3_svd_116', 'disease3_svd_117', 'disease3_svd_118', 'disease3_svd_119', 'disease3_svd_120', 'disease3_svd_121', 'disease3_svd_122', 'disease3_svd_123', 'disease3_svd_124', 'disease3_svd_125', 'disease3_svd_126', 'disease3_svd_127', 'N_33+N_198', 'N_33-N_198', 'N_33*N_198', 'N_33/N_198', 'N_33+N_74', 'N_33-N_74', 'N_33*N_74', 'N_33/N_74', 'N_33+food', 'N_33-food', 'N_33*food', 'N_33/food', 'N_198+N_74', 'N_198-N_74', 'N_198*N_74', 'N_198/N_74', 'N_198+food', 'N_198-food', 'N_198*food', 'N_198/food', 'N_74+food', 'N_74-food', 'N_74*food', 'N_74/food']\n"
     ]
    }
   ],
   "source": [
    "feature_name = [f for f in train_df.columns if f not in drop_cols]\n",
    "X_train = train_df[feature_name].reset_index(drop=True)\n",
    "X_test = test_df[feature_name].reset_index(drop=True)\n",
    "y = train_df['related'].reset_index(drop=True)\n",
    "print(len(feature_name))\n",
    "print(feature_name)"
   ]
  },
  {
   "cell_type": "code",
   "execution_count": 23,
   "metadata": {
    "pycharm": {
     "name": "#%%\n"
    }
   },
   "outputs": [
    {
     "name": "stdout",
     "output_type": "stream",
     "text": [
      "(46805, 626)\n"
     ]
    }
   ],
   "source": [
    "print(test_df.shape)"
   ]
  },
  {
   "cell_type": "code",
   "execution_count": null,
   "metadata": {
    "pycharm": {
     "name": "#%%\n"
    }
   },
   "outputs": [],
   "source": []
  },
  {
   "cell_type": "markdown",
   "metadata": {
    "pycharm": {
     "name": "#%% md\n"
    }
   },
   "source": [
    "# 模型训练\n",
    "\n",
    "本次仅使用lightgbm模型来训练。"
   ]
  },
  {
   "cell_type": "code",
   "execution_count": 24,
   "metadata": {
    "pycharm": {
     "name": "#%%\n"
    }
   },
   "outputs": [],
   "source": [
    "train_pred = {}\n",
    "test_pred = {}"
   ]
  },
  {
   "cell_type": "code",
   "execution_count": 25,
   "metadata": {
    "scrolled": true,
    "pycharm": {
     "name": "#%%\n"
    }
   },
   "outputs": [
    {
     "name": "stdout",
     "output_type": "stream",
     "text": [
      "2 --------------------------------------------------------------------------------------------\n",
      "Training until validation scores don't improve for 100 rounds\n",
      "[100]\tvalid_0's auc: 0.949458\n",
      "[200]\tvalid_0's auc: 0.959777\n",
      "[300]\tvalid_0's auc: 0.964304\n",
      "[400]\tvalid_0's auc: 0.967173\n",
      "[500]\tvalid_0's auc: 0.969298\n",
      "[600]\tvalid_0's auc: 0.970734\n",
      "[700]\tvalid_0's auc: 0.97184\n",
      "[800]\tvalid_0's auc: 0.972792\n",
      "[900]\tvalid_0's auc: 0.973685\n",
      "[1000]\tvalid_0's auc: 0.97433\n",
      "[1100]\tvalid_0's auc: 0.97489\n",
      "[1200]\tvalid_0's auc: 0.975442\n",
      "[1300]\tvalid_0's auc: 0.975927\n",
      "[1400]\tvalid_0's auc: 0.976211\n",
      "[1500]\tvalid_0's auc: 0.976626\n",
      "[1600]\tvalid_0's auc: 0.976887\n",
      "[1700]\tvalid_0's auc: 0.977127\n",
      "[1800]\tvalid_0's auc: 0.977394\n",
      "[1900]\tvalid_0's auc: 0.977593\n",
      "[2000]\tvalid_0's auc: 0.97781\n",
      "[2100]\tvalid_0's auc: 0.977997\n",
      "[2200]\tvalid_0's auc: 0.978176\n",
      "[2300]\tvalid_0's auc: 0.978341\n",
      "[2400]\tvalid_0's auc: 0.978489\n",
      "[2500]\tvalid_0's auc: 0.978705\n",
      "[2600]\tvalid_0's auc: 0.978843\n",
      "[2700]\tvalid_0's auc: 0.979005\n",
      "[2800]\tvalid_0's auc: 0.979131\n",
      "[2900]\tvalid_0's auc: 0.979242\n",
      "[3000]\tvalid_0's auc: 0.979413\n",
      "[3100]\tvalid_0's auc: 0.979516\n",
      "[3200]\tvalid_0's auc: 0.979645\n",
      "[3300]\tvalid_0's auc: 0.979739\n",
      "[3400]\tvalid_0's auc: 0.979784\n",
      "[3500]\tvalid_0's auc: 0.979875\n",
      "[3600]\tvalid_0's auc: 0.979941\n",
      "[3700]\tvalid_0's auc: 0.980045\n",
      "[3800]\tvalid_0's auc: 0.980099\n",
      "[3900]\tvalid_0's auc: 0.980162\n",
      "[4000]\tvalid_0's auc: 0.980287\n",
      "[4100]\tvalid_0's auc: 0.980348\n",
      "[4200]\tvalid_0's auc: 0.980369\n",
      "[4300]\tvalid_0's auc: 0.980425\n",
      "[4400]\tvalid_0's auc: 0.98051\n",
      "[4500]\tvalid_0's auc: 0.98055\n",
      "[4600]\tvalid_0's auc: 0.980603\n",
      "[4700]\tvalid_0's auc: 0.980674\n",
      "[4800]\tvalid_0's auc: 0.980699\n",
      "[4900]\tvalid_0's auc: 0.980728\n",
      "[5000]\tvalid_0's auc: 0.980775\n",
      "[5100]\tvalid_0's auc: 0.980817\n",
      "[5200]\tvalid_0's auc: 0.980853\n",
      "[5300]\tvalid_0's auc: 0.980893\n",
      "[5400]\tvalid_0's auc: 0.980918\n",
      "[5500]\tvalid_0's auc: 0.980933\n",
      "[5600]\tvalid_0's auc: 0.980948\n",
      "[5700]\tvalid_0's auc: 0.980981\n",
      "[5800]\tvalid_0's auc: 0.98097\n",
      "Early stopping, best iteration is:\n",
      "[5722]\tvalid_0's auc: 0.980989\n",
      "Training until validation scores don't improve for 100 rounds\n",
      "[100]\tvalid_0's auc: 0.950027\n",
      "[200]\tvalid_0's auc: 0.959938\n",
      "[300]\tvalid_0's auc: 0.964937\n",
      "[400]\tvalid_0's auc: 0.967805\n",
      "[500]\tvalid_0's auc: 0.969622\n",
      "[600]\tvalid_0's auc: 0.971088\n",
      "[700]\tvalid_0's auc: 0.9722\n",
      "[800]\tvalid_0's auc: 0.972828\n",
      "[900]\tvalid_0's auc: 0.973659\n",
      "[1000]\tvalid_0's auc: 0.974214\n",
      "[1100]\tvalid_0's auc: 0.974677\n",
      "[1200]\tvalid_0's auc: 0.975196\n",
      "[1300]\tvalid_0's auc: 0.975674\n",
      "[1400]\tvalid_0's auc: 0.976063\n",
      "[1500]\tvalid_0's auc: 0.976356\n",
      "[1600]\tvalid_0's auc: 0.976684\n",
      "[1700]\tvalid_0's auc: 0.976991\n",
      "[1800]\tvalid_0's auc: 0.977259\n",
      "[1900]\tvalid_0's auc: 0.977462\n",
      "[2000]\tvalid_0's auc: 0.97767\n",
      "[2100]\tvalid_0's auc: 0.977802\n",
      "[2200]\tvalid_0's auc: 0.977987\n",
      "[2300]\tvalid_0's auc: 0.978169\n",
      "[2400]\tvalid_0's auc: 0.978243\n",
      "[2500]\tvalid_0's auc: 0.978419\n",
      "[2600]\tvalid_0's auc: 0.978477\n",
      "[2700]\tvalid_0's auc: 0.978578\n",
      "[2800]\tvalid_0's auc: 0.978721\n",
      "[2900]\tvalid_0's auc: 0.978796\n",
      "[3000]\tvalid_0's auc: 0.978889\n",
      "[3100]\tvalid_0's auc: 0.978985\n",
      "[3200]\tvalid_0's auc: 0.979063\n",
      "[3300]\tvalid_0's auc: 0.9791\n",
      "[3400]\tvalid_0's auc: 0.979187\n",
      "[3500]\tvalid_0's auc: 0.979283\n",
      "[3600]\tvalid_0's auc: 0.979396\n",
      "[3700]\tvalid_0's auc: 0.979473\n",
      "[3800]\tvalid_0's auc: 0.979555\n",
      "[3900]\tvalid_0's auc: 0.979695\n",
      "[4000]\tvalid_0's auc: 0.97974\n",
      "[4100]\tvalid_0's auc: 0.979777\n",
      "[4200]\tvalid_0's auc: 0.979819\n",
      "[4300]\tvalid_0's auc: 0.979893\n",
      "[4400]\tvalid_0's auc: 0.979946\n",
      "[4500]\tvalid_0's auc: 0.979963\n",
      "[4600]\tvalid_0's auc: 0.98001\n",
      "[4700]\tvalid_0's auc: 0.980054\n",
      "[4800]\tvalid_0's auc: 0.980072\n",
      "[4900]\tvalid_0's auc: 0.980102\n",
      "[5000]\tvalid_0's auc: 0.980103\n",
      "Early stopping, best iteration is:\n",
      "[4930]\tvalid_0's auc: 0.980111\n",
      "Training until validation scores don't improve for 100 rounds\n",
      "[100]\tvalid_0's auc: 0.945509\n",
      "[200]\tvalid_0's auc: 0.957126\n",
      "[300]\tvalid_0's auc: 0.962499\n",
      "[400]\tvalid_0's auc: 0.966045\n",
      "[500]\tvalid_0's auc: 0.968341\n",
      "[600]\tvalid_0's auc: 0.969859\n",
      "[700]\tvalid_0's auc: 0.971038\n",
      "[800]\tvalid_0's auc: 0.972075\n",
      "[900]\tvalid_0's auc: 0.972867\n",
      "[1000]\tvalid_0's auc: 0.973547\n",
      "[1100]\tvalid_0's auc: 0.974153\n",
      "[1200]\tvalid_0's auc: 0.974683\n",
      "[1300]\tvalid_0's auc: 0.97523\n",
      "[1400]\tvalid_0's auc: 0.975676\n",
      "[1500]\tvalid_0's auc: 0.976042\n",
      "[1600]\tvalid_0's auc: 0.976402\n",
      "[1700]\tvalid_0's auc: 0.976655\n",
      "[1800]\tvalid_0's auc: 0.976866\n",
      "[1900]\tvalid_0's auc: 0.977145\n",
      "[2000]\tvalid_0's auc: 0.977343\n",
      "[2100]\tvalid_0's auc: 0.977578\n",
      "[2200]\tvalid_0's auc: 0.977792\n",
      "[2300]\tvalid_0's auc: 0.977984\n",
      "[2400]\tvalid_0's auc: 0.978142\n",
      "[2500]\tvalid_0's auc: 0.97833\n",
      "[2600]\tvalid_0's auc: 0.978463\n",
      "[2700]\tvalid_0's auc: 0.978588\n",
      "[2800]\tvalid_0's auc: 0.978679\n",
      "[2900]\tvalid_0's auc: 0.978795\n",
      "[3000]\tvalid_0's auc: 0.978912\n",
      "[3100]\tvalid_0's auc: 0.979047\n",
      "[3200]\tvalid_0's auc: 0.979147\n",
      "[3300]\tvalid_0's auc: 0.979257\n",
      "[3400]\tvalid_0's auc: 0.979326\n",
      "[3500]\tvalid_0's auc: 0.979429\n",
      "[3600]\tvalid_0's auc: 0.979481\n",
      "[3700]\tvalid_0's auc: 0.979539\n",
      "[3800]\tvalid_0's auc: 0.979622\n",
      "[3900]\tvalid_0's auc: 0.979647\n",
      "[4000]\tvalid_0's auc: 0.979732\n",
      "[4100]\tvalid_0's auc: 0.97979\n",
      "[4200]\tvalid_0's auc: 0.979843\n",
      "[4300]\tvalid_0's auc: 0.979924\n",
      "[4400]\tvalid_0's auc: 0.98001\n",
      "[4500]\tvalid_0's auc: 0.98002\n",
      "[4600]\tvalid_0's auc: 0.98006\n",
      "[4700]\tvalid_0's auc: 0.98014\n",
      "[4800]\tvalid_0's auc: 0.980186\n",
      "[4900]\tvalid_0's auc: 0.980242\n",
      "[5000]\tvalid_0's auc: 0.98027\n",
      "[5100]\tvalid_0's auc: 0.980302\n",
      "[5200]\tvalid_0's auc: 0.980306\n",
      "[5300]\tvalid_0's auc: 0.980371\n",
      "[5400]\tvalid_0's auc: 0.980391\n",
      "Early stopping, best iteration is:\n",
      "[5389]\tvalid_0's auc: 0.980398\n",
      "Training until validation scores don't improve for 100 rounds\n",
      "[100]\tvalid_0's auc: 0.952301\n",
      "[200]\tvalid_0's auc: 0.962685\n",
      "[300]\tvalid_0's auc: 0.967336\n",
      "[400]\tvalid_0's auc: 0.970809\n",
      "[500]\tvalid_0's auc: 0.972868\n",
      "[600]\tvalid_0's auc: 0.97449\n",
      "[700]\tvalid_0's auc: 0.975652\n",
      "[800]\tvalid_0's auc: 0.976443\n",
      "[900]\tvalid_0's auc: 0.97732\n",
      "[1000]\tvalid_0's auc: 0.97785\n",
      "[1100]\tvalid_0's auc: 0.978349\n",
      "[1200]\tvalid_0's auc: 0.978761\n",
      "[1300]\tvalid_0's auc: 0.979175\n",
      "[1400]\tvalid_0's auc: 0.979587\n",
      "[1500]\tvalid_0's auc: 0.979879\n",
      "[1600]\tvalid_0's auc: 0.980247\n",
      "[1700]\tvalid_0's auc: 0.980573\n",
      "[1800]\tvalid_0's auc: 0.980804\n",
      "[1900]\tvalid_0's auc: 0.981015\n",
      "[2000]\tvalid_0's auc: 0.981178\n",
      "[2100]\tvalid_0's auc: 0.981371\n",
      "[2200]\tvalid_0's auc: 0.981576\n",
      "[2300]\tvalid_0's auc: 0.98171\n",
      "[2400]\tvalid_0's auc: 0.981883\n",
      "[2500]\tvalid_0's auc: 0.98202\n",
      "[2600]\tvalid_0's auc: 0.982172\n",
      "[2700]\tvalid_0's auc: 0.982304\n",
      "[2800]\tvalid_0's auc: 0.982403\n",
      "[2900]\tvalid_0's auc: 0.982475\n",
      "[3000]\tvalid_0's auc: 0.9826\n",
      "[3100]\tvalid_0's auc: 0.982683\n",
      "[3200]\tvalid_0's auc: 0.982782\n",
      "[3300]\tvalid_0's auc: 0.982876\n",
      "[3400]\tvalid_0's auc: 0.982965\n",
      "[3500]\tvalid_0's auc: 0.983003\n",
      "[3600]\tvalid_0's auc: 0.983101\n",
      "[3700]\tvalid_0's auc: 0.983161\n",
      "[3800]\tvalid_0's auc: 0.983212\n",
      "[3900]\tvalid_0's auc: 0.983263\n",
      "[4000]\tvalid_0's auc: 0.983266\n",
      "[4100]\tvalid_0's auc: 0.983364\n",
      "[4200]\tvalid_0's auc: 0.983358\n",
      "[4300]\tvalid_0's auc: 0.983397\n",
      "[4400]\tvalid_0's auc: 0.983459\n",
      "[4500]\tvalid_0's auc: 0.983501\n",
      "Early stopping, best iteration is:\n",
      "[4470]\tvalid_0's auc: 0.983514\n",
      "Training until validation scores don't improve for 100 rounds\n",
      "[100]\tvalid_0's auc: 0.95199\n",
      "[200]\tvalid_0's auc: 0.962906\n",
      "[300]\tvalid_0's auc: 0.967527\n",
      "[400]\tvalid_0's auc: 0.970826\n",
      "[500]\tvalid_0's auc: 0.97282\n",
      "[600]\tvalid_0's auc: 0.974122\n",
      "[700]\tvalid_0's auc: 0.974963\n",
      "[800]\tvalid_0's auc: 0.976001\n",
      "[900]\tvalid_0's auc: 0.976629\n",
      "[1000]\tvalid_0's auc: 0.977395\n",
      "[1100]\tvalid_0's auc: 0.977824\n",
      "[1200]\tvalid_0's auc: 0.978371\n",
      "[1300]\tvalid_0's auc: 0.978707\n",
      "[1400]\tvalid_0's auc: 0.97908\n",
      "[1500]\tvalid_0's auc: 0.979361\n",
      "[1600]\tvalid_0's auc: 0.979649\n",
      "[1700]\tvalid_0's auc: 0.979947\n",
      "[1800]\tvalid_0's auc: 0.980176\n",
      "[1900]\tvalid_0's auc: 0.980395\n",
      "[2000]\tvalid_0's auc: 0.980537\n",
      "[2100]\tvalid_0's auc: 0.980691\n",
      "[2200]\tvalid_0's auc: 0.980871\n",
      "[2300]\tvalid_0's auc: 0.981015\n",
      "[2400]\tvalid_0's auc: 0.981173\n",
      "[2500]\tvalid_0's auc: 0.981276\n",
      "[2600]\tvalid_0's auc: 0.981401\n",
      "[2700]\tvalid_0's auc: 0.981446\n",
      "[2800]\tvalid_0's auc: 0.98157\n",
      "[2900]\tvalid_0's auc: 0.981658\n",
      "[3000]\tvalid_0's auc: 0.981744\n",
      "[3100]\tvalid_0's auc: 0.981874\n",
      "[3200]\tvalid_0's auc: 0.981953\n",
      "[3300]\tvalid_0's auc: 0.982039\n",
      "[3400]\tvalid_0's auc: 0.982099\n",
      "[3500]\tvalid_0's auc: 0.982162\n",
      "[3600]\tvalid_0's auc: 0.982221\n",
      "[3700]\tvalid_0's auc: 0.982283\n",
      "[3800]\tvalid_0's auc: 0.982314\n",
      "[3900]\tvalid_0's auc: 0.982407\n"
     ]
    },
    {
     "name": "stdout",
     "output_type": "stream",
     "text": [
      "[4000]\tvalid_0's auc: 0.982491\n",
      "[4100]\tvalid_0's auc: 0.982525\n",
      "[4200]\tvalid_0's auc: 0.982581\n",
      "[4300]\tvalid_0's auc: 0.982648\n",
      "[4400]\tvalid_0's auc: 0.982711\n",
      "[4500]\tvalid_0's auc: 0.982756\n",
      "[4600]\tvalid_0's auc: 0.982764\n",
      "[4700]\tvalid_0's auc: 0.982788\n",
      "[4800]\tvalid_0's auc: 0.9828\n",
      "[4900]\tvalid_0's auc: 0.982854\n",
      "[5000]\tvalid_0's auc: 0.982886\n",
      "[5100]\tvalid_0's auc: 0.982885\n",
      "[5200]\tvalid_0's auc: 0.982911\n",
      "[5300]\tvalid_0's auc: 0.982922\n",
      "[5400]\tvalid_0's auc: 0.982968\n",
      "[5500]\tvalid_0's auc: 0.982967\n",
      "[5600]\tvalid_0's auc: 0.983015\n",
      "[5700]\tvalid_0's auc: 0.983044\n",
      "Early stopping, best iteration is:\n",
      "[5651]\tvalid_0's auc: 0.983049\n"
     ]
    },
    {
     "data": {
      "text/plain": [
       "53521"
      ]
     },
     "execution_count": 25,
     "metadata": {},
     "output_type": "execute_result"
    }
   ],
   "source": [
    "seeds = [2]\n",
    "num_model_seed = 1\n",
    "oof = np.zeros(X_train.shape[0])\n",
    "prediction = np.zeros(X_test.shape[0])\n",
    "feat_imp_df = pd.DataFrame({'feats': feature_name, 'imp': 0})\n",
    "parameters = {\n",
    "    'learning_rate': 0.01,\n",
    "    'boosting_type': 'gbdt',\n",
    "    'objective': 'binary',\n",
    "    'metric': 'auc',\n",
    "    'num_leaves': 63,\n",
    "    'feature_fraction': 0.8,\n",
    "    'bagging_fraction': 0.8,\n",
    "    'bagging_freq': 5,\n",
    "    'seed': 2022,\n",
    "    'bagging_seed': 1,\n",
    "    'feature_fraction_seed': 7,\n",
    "    'min_data_in_leaf': 20,\n",
    "    'verbose': -1, \n",
    "    'n_jobs':8\n",
    "}\n",
    "fold = 5\n",
    "for model_seed in range(num_model_seed):\n",
    "    print(seeds[model_seed],\"--------------------------------------------------------------------------------------------\")\n",
    "    oof_cat = np.zeros(X_train.shape[0])\n",
    "    prediction_cat = np.zeros(X_test.shape[0])\n",
    "    skf = StratifiedKFold(n_splits=fold, random_state=seeds[model_seed], shuffle=True)\n",
    "    for index, (train_index, test_index) in enumerate(skf.split(X_train, y)):\n",
    "        train_x, test_x, train_y, test_y = X_train[feature_name].iloc[train_index], X_train[feature_name].iloc[test_index], y.iloc[train_index], y.iloc[test_index]\n",
    "        dtrain = lgb.Dataset(train_x, label=train_y)\n",
    "        dval = lgb.Dataset(test_x, label=test_y)\n",
    "        lgb_model = lgb.train(\n",
    "            parameters,\n",
    "            dtrain,\n",
    "            num_boost_round=10000,\n",
    "            valid_sets=[dval],\n",
    "            early_stopping_rounds=100,\n",
    "            verbose_eval=100, )\n",
    "        oof_cat[test_index] += lgb_model.predict(test_x,num_iteration=lgb_model.best_iteration)\n",
    "        prediction_cat += lgb_model.predict(X_test,num_iteration=lgb_model.best_iteration) / fold\n",
    "        feat_imp_df['imp'] += lgb_model.feature_importance()\n",
    "\n",
    "        del train_x\n",
    "        del test_x\n",
    "        del train_y\n",
    "        del test_y\n",
    "        del lgb_model\n",
    "    oof += oof_cat / num_model_seed\n",
    "    prediction += prediction_cat / num_model_seed\n",
    "gc.collect()"
   ]
  },
  {
   "cell_type": "code",
   "execution_count": 26,
   "metadata": {
    "pycharm": {
     "name": "#%%\n"
    }
   },
   "outputs": [],
   "source": [
    "train_pred['lgb'] = oof\n",
    "test_pred['lgb'] = prediction"
   ]
  },
  {
   "cell_type": "code",
   "execution_count": 27,
   "metadata": {
    "pycharm": {
     "name": "#%%\n"
    }
   },
   "outputs": [
    {
     "name": "stdout",
     "output_type": "stream",
     "text": [
      "lgb train auc:  0.9815072860684189\n"
     ]
    }
   ],
   "source": [
    "print(\"lgb train auc: \", roc_auc_score(y, train_pred['lgb']))"
   ]
  },
  {
   "cell_type": "code",
   "execution_count": 28,
   "metadata": {
    "scrolled": true,
    "pycharm": {
     "name": "#%%\n"
    }
   },
   "outputs": [
    {
     "name": "stdout",
     "output_type": "stream",
     "text": [
      "0.10, 0.11, 0.12, 0.13, 0.14, 0.15, 0.16, 0.17, 0.18, 0.19, 0.20, 0.21, 0.22, 0.23, 0.24, 0.25, 0.26, 0.27, 0.28, 0.29, 0.30, 0.31, 0.32, 0.33, 0.34, 0.35, 0.36, 0.37, 0.38, 0.39, 0.40, 0.41, 0.42, 0.43, 0.44, 0.45, 0.46, 0.47, 0.48, 0.49, 0.50, 0.51, 0.52, 0.53, 0.54, 0.55, 0.56, 0.57, 0.58, 0.59, 0.60, 0.61, 0.62, 0.63, 0.64, 0.65, 0.66, 0.67, 0.68, 0.69, 0.70, 0.71, 0.72, 0.73, 0.74, 0.75, 0.76, 0.77, 0.78, 0.79, 0.80, 0.81, 0.82, 0.83, 0.84, 0.85, 0.86, 0.87, 0.88, 0.89, "
     ]
    }
   ],
   "source": [
    "scores = []; thresholds = []\n",
    "best_score = 0; best_threshold = 0\n",
    "\n",
    "for threshold in np.arange(0.1,0.9,0.01):\n",
    "    print(f'{threshold:.02f}, ',end='')\n",
    "    preds = (train_pred['lgb'].reshape((-1)) > threshold).astype('int')\n",
    "    m = f1_score(y.values.reshape((-1)), preds, average='binary')   \n",
    "    scores.append(m)\n",
    "    thresholds.append(threshold)\n",
    "    if m>best_score:\n",
    "        best_score = m\n",
    "        best_threshold = threshold"
   ]
  },
  {
   "cell_type": "code",
   "execution_count": 29,
   "metadata": {
    "pycharm": {
     "name": "#%%\n"
    }
   },
   "outputs": [
    {
     "data": {
      "image/png": "[encoded data removed]",
      "text/plain": [
       "<Figure size 1440x360 with 1 Axes>"
      ]
     },
     "metadata": {
      "needs_background": "light"
     },
     "output_type": "display_data"
    }
   ],
   "source": [
    "import matplotlib.pyplot as plt\n",
    "\n",
    "# PLOT THRESHOLD VS. F1_SCORE\n",
    "plt.figure(figsize=(20,5))\n",
    "plt.plot(thresholds,scores,'-o',color='blue')\n",
    "plt.scatter([best_threshold], [best_score], color='blue', s=300, alpha=1)\n",
    "plt.xlabel('Threshold',size=14)\n",
    "plt.ylabel('Validation F1 Score',size=14)\n",
    "plt.title(f'Threshold vs. F1_Score with Best F1_Score = {best_score:.3f} at Best Threshold = {best_threshold:.3}',size=18)\n",
    "plt.show()"
   ]
  },
  {
   "cell_type": "code",
   "execution_count": 30,
   "metadata": {
    "pycharm": {
     "name": "#%%\n"
    }
   },
   "outputs": [
    {
     "name": "stdout",
     "output_type": "stream",
     "text": [
      "0.9069142306919424\n"
     ]
    }
   ],
   "source": [
    "auc = roc_auc_score(y, train_pred['lgb'])\n",
    "f1 = best_score\n",
    "print((auc + f1) / 2)"
   ]
  },
  {
   "cell_type": "code",
   "execution_count": null,
   "metadata": {
    "pycharm": {
     "name": "#%%\n"
    }
   },
   "outputs": [],
   "source": []
  },
  {
   "cell_type": "markdown",
   "metadata": {
    "pycharm": {
     "name": "#%% md\n"
    }
   },
   "source": [
    "# 生成提交结果\n",
    "\n",
    "这里我们控制1的个数为4100个左右，最终线上得分0.7956687074375137，f1:0.6540415704387991, auc:0.9372958444362285。"
   ]
  },
  {
   "cell_type": "code",
   "execution_count": 38,
   "metadata": {
    "pycharm": {
     "name": "#%%\n"
    }
   },
   "outputs": [
    {
     "data": {
      "text/plain": [
       "4000"
      ]
     },
     "execution_count": 38,
     "metadata": {},
     "output_type": "execute_result"
    }
   ],
   "source": [
    "# label=[1 if x >= 0.265+0.235 else 0 for x in prediction+0.235]\n",
    "# np.sum(label)\n",
    "\n",
    "label=[1 if x >= 0.26+0.24 else 0 for x in prediction+0.24]\n",
    "np.sum(label)"
   ]
  },
  {
   "cell_type": "code",
   "execution_count": 39,
   "metadata": {
    "pycharm": {
     "name": "#%%\n"
    }
   },
   "outputs": [],
   "source": [
    "preliminary_a_submit_sample['related_prob'] = prediction+0.24"
   ]
  },
  {
   "cell_type": "code",
   "execution_count": 40,
   "metadata": {
    "pycharm": {
     "name": "#%%\n"
    }
   },
   "outputs": [],
   "source": [
    "preliminary_a_submit_sample.to_csv('submit.csv', index=False)"
   ]
  },
  {
   "cell_type": "code",
   "execution_count": null,
   "metadata": {
    "pycharm": {
     "name": "#%%\n"
    }
   },
   "outputs": [],
   "source": []
  },
  {
   "cell_type": "markdown",
   "metadata": {
    "pycharm": {
     "name": "#%% md\n"
    }
   },
   "source": [
    "# 进一步优化\n",
    "\n",
    "1. 由于foodid只有训练集有，那么是否可以使用food侧的特征，做相似度模型，例如共现矩阵、tfidf、embedding等。\n",
    "\n",
    "2. 目标编码做了之后，线下会涨很多但是线上长得比较少，还是过拟合比较严重，是否可以考虑根据疾病特征做聚类，然后减轻这种情况。同理food侧特征也可以做聚类，用来解决测试集都是训练集未曾出现过的id的问题。\n",
    "\n",
    "3. 交叉特征里面，对于food侧只取了一部分，是否可以多取一点（进一步上述base可以通过筛选food特征提升至7976的分数，但是会很抖）。\n",
    "\n",
    "4. 特征筛选的地方，并没有剔除缺失率高的特征，也没有根据对抗验证进行筛选，或许可以进行尝试。\n",
    "\n",
    "5. 模型训练的参数，学习率太低，叶子节点数太高，导致模型过拟合比较严重，可以考虑调参（可以上分）。\n",
    "\n",
    "6. 目前仅使用了lightgbm模型，可以考虑xgboost，catboost模型，进行模型的集成（xgb貌似还不错，需要祖传参数）。\n",
    "\n",
    "7. 上述base是1的个数为4100个，可以调整不同的个数来测试，亲测不同的特征组合哪怕只是添加一个，最优的1的个数都是不同的。米哥开源的7949的代码，只需调整1的个数就可以7956，可以考虑将两份base结合看是否可以得到更高的分数。\n",
    "\n",
    "8. svd的维度是可以调整的，不一定每个都是一样的。以及还可以使用pca的方法，不过需要进行归一化。"
   ]
  },
  {
   "cell_type": "code",
   "execution_count": null,
   "metadata": {
    "pycharm": {
     "name": "#%%\n"
    }
   },
   "outputs": [],
   "source": []
  },
  {
   "cell_type": "code",
   "execution_count": null,
   "metadata": {
    "pycharm": {
     "name": "#%%\n"
    }
   },
   "outputs": [],
   "source": []
  },
  {
   "cell_type": "code",
   "execution_count": null,
   "metadata": {
    "pycharm": {
     "name": "#%%\n"
    }
   },
   "outputs": [],
   "source": []
  }
 ],
 "metadata": {
  "kernelspec": {
   "display_name": "Python 3.9.6 64-bit",
   "name": "python396jvsc74a57bd031f2aee4e71d21fbe5cf8b01ff0e069b9275f58929596ceb00d14d90e3e16cd6"
  },
  "language_info": {
   "name": "python",
   "version": ""
  },
  "metadata": {
   "interpreter": {
    "hash": "31f2aee4e71d21fbe5cf8b01ff0e069b9275f58929596ceb00d14d90e3e16cd6"
   }
  }
 },
 "nbformat": 4,
 "nbformat_minor": 5
}